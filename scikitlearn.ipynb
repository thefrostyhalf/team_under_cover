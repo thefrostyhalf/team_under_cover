{
 "cells": [
  {
   "cell_type": "code",
   "execution_count": 18,
   "metadata": {},
   "outputs": [],
   "source": [
    "from __future__ import print_function\n",
    "from sklearn.decomposition import TruncatedSVD\n",
    "from sklearn.feature_extraction.text import TfidfVectorizer\n",
    "from sklearn.feature_extraction.text import HashingVectorizer\n",
    "from sklearn.feature_extraction.text import TfidfTransformer\n",
    "from sklearn.feature_extraction.text import CountVectorizer\n",
    "\n",
    "from sklearn.cluster import KMeans, MiniBatchKMeans\n",
    "\n",
    "import logging\n",
    "from optparse import OptionParser\n",
    "import sys\n",
    "from time import time\n",
    "import pandas as pd\n",
    "import numpy as np"
   ]
  },
  {
   "cell_type": "code",
   "execution_count": 19,
   "metadata": {},
   "outputs": [],
   "source": [
    "good_df = pd.read_csv('good.csv')\n",
    "good_df = good_df.dropna(axis=0, how='any')\n",
    "bad_df = pd.read_csv('bad.csv')\n",
    "bad_df = good_df.dropna(axis=0, how='any')"
   ]
  },
  {
   "cell_type": "code",
   "execution_count": 21,
   "metadata": {},
   "outputs": [
    {
     "name": "stdout",
     "output_type": "stream",
     "text": [
      "{'text': 490, 'pink': 381, 'font': 205, 'product': 397, 'organ': 359, 'paper': 368, 'line': 290, 'area': 22, 'organism': 360, 'party': 369, 'supply': 482, 'yellow': 543, 'poster': 393, 'brand': 67, 'book': 63, 'signage': 439, 'diagram': 150, 'document': 158, 'rectangle': 410, 'drawing': 162, 'blue': 58, 'material': 312, 'straw': 470, 'fauna': 186, 'horse': 259, 'like': 289, 'mammal': 307, 'tree': 506, 'plant': 382, 'grass': 234, 'black': 56, 'and': 11, 'white': 532, 'human': 260, 'behavior': 51, 'film': 190, 'watercolor': 528, 'paint': 366, 'arch': 19, 'history': 256, 'painting': 367, 'art': 26, 'ancient': 10, 'illustration': 261, 'green': 236, 'notebook': 353, 'turquoise': 508, 'advertising': 7, 'sailing': 429, 'ship': 435, 'watercraft': 529, 'fluyt': 203, 'caravel': 84, 'sail': 427, 'sailboat': 428, 'brigantine': 72, 'clipper': 106, 'album': 9, 'cover': 132, 'modern': 328, 'novel': 354, 'food': 206, 'dish': 154, 'vegetable': 515, 'cuisine': 138, 'meal': 314, 'appetizer': 16, 'asian': 29, 'seafood': 434, 'recipe': 408, 'vegetarian': 516, 'fiction': 187, 'comics': 118, 'fictional': 188, 'character': 94, 'thai': 492, 'curry': 139, 'biryani': 55, 'spanish': 458, 'purple': 404, 'graphic': 232, 'design': 148, 'graphics': 233, 'wing': 535, 'aviation': 34, 'buffet': 74, 'dessert': 149, 'breakfast': 70, 'headgear': 247, 'hair': 240, 'accessory': 1, 'home': 258, 'yard': 541, 'garden': 221, 'backyard': 35, 'table': 486, 'outdoor': 363, 'structure': 472, 'floristry': 200, 'courtyard': 131, 'flower': 201, 'porch': 391, 'floor': 197, 'angle': 13, 'stallion': 465, 'pack': 364, 'animal': 14, 'mustang': 342, 'condottiere': 126, 'chin': 99, 'facial': 183, 'action': 4, 'sky': 445, 'viking': 521, 'gladiator': 226, 'vintage': 522, 'clothing': 108, 'pattern': 370, 'middle': 321, 'ages': 8, 'woman': 537, 'person': 373, 'cartoon': 88, 'male': 306, 'emotion': 171, 'water': 527, 'mythology': 344, 'religion': 414, 'leaf': 285, 'maple': 310, 'eye': 178, 'eyebrow': 179, 'eyelash': 180, 'close': 107, 'up': 512, 'body': 61, 'jewelry': 269, 'mode': 326, 'of': 357, 'transport': 505, 'space': 456, 'computer': 125, 'wallpaper': 526, 'logo': 298, 'darkness': 143, 'midnight': 322, 'photo': 377, 'caption': 82, 'nature': 346, 'orange': 358, 'moths': 332, 'butterflies': 77, 'butterfly': 78, 'invertebrate': 266, 'insect': 264, 'pollinator': 389, 'symmetry': 485, 'gentleman': 222, 'monochrome': 329, 'photography': 378, 'building': 75, 'stock': 469, 'vehicle': 517, 'magenta': 304, 'boat': 59, 'naval': 347, 'architecture': 20, 'landmark': 282, 'phenomenon': 376, 'biome': 53, 'visual': 525, 'arts': 27, 'label': 278, 'mane': 309, 'pony': 390, 'livestock': 294, 'snout': 448, 'musical': 341, 'instrument': 265, 'cat': 89, 'wildlife': 534, 'lion': 291, 'carnivoran': 87, 'big': 52, 'cats': 90, 'organization': 361, 'atmosphere': 31, 'sea': 433, 'calm': 81, 'vertebrate': 519, 'recreation': 409, 'chicken': 97, 'bird': 54, 'rooster': 426, 'skin': 444, 'beauty': 48, 'cheek': 95, 'lip': 292, 'coloring': 113, 'jaw': 267, 'calligraphy': 80, 'glass': 227, 'bottle': 64, 'picture': 380, 'frame': 211, 'handwriting': 243, 'motor': 333, 'toy': 504, 'car': 83, 'play': 385, 'bead': 45, 'making': 305, 'jewellery': 268, 'face': 182, 'smile': 447, 'girl': 225, 'portrait': 392, 'elder': 169, 'flowering': 202, 'flora': 198, 'violet': 523, 'arranging': 25, 'floral': 199, 'petal': 375, 'figurine': 189, 'herbal': 254, 'herbalism': 255, 'herb': 253, 'produce': 396, 'star': 466, 'event': 174, 'christmas': 100, 'friendship': 212, 'happiness': 244, 'summer': 476, 'ecoregion': 166, 'profession': 398, 'astronaut': 30, 'professional': 399, 'uniform': 510, 'competition': 124, 'video': 520, 'game': 219, 'software': 451, 'guitar': 239, 'joint': 270, 'physical': 379, 'fitness': 193, 'clip': 105, 'beard': 47, 'forehead': 209, 'moustache': 335, 'cg': 92, 'artwork': 28, 'lady': 281, 'child': 98, 'mother': 331, 'infant': 262, 'love': 301, 'toddler': 500, 'romance': 424, 'bedtime': 49, 'cowboy': 133, 'world': 539, 'heat': 251, 'baking': 40, 'muffin': 337, 'frozen': 213, 'superfood': 479, 'strawberries': 471, 'dairy': 141, 'banner': 43, 'ocean': 356, 'deer': 147, 'reindeer': 412, 'circle': 101, 'night': 351, 'health': 249, 'dress': 163, 'costume': 130, 'fashion': 184, 'dragon': 161, 'mythical': 343, 'creature': 135, 'pc': 371, 'acrylic': 3, 'spring': 462, 'resources': 415, 'tourism': 501, 'coast': 110, 'nose': 352, 'shirt': 436, 'chair': 93, 'furniture': 217, 'daughter': 144, 'football': 208, 'player': 386, 'soccer': 450, 'team': 489, 'sport': 460, 'tournament': 502, 'sports': 461, 'ball': 42, 'man': 308, 'media': 316, 'juice': 271, 'expression': 176, 'collar': 111, 'worker': 538, 'magazine': 303, 'head': 246, 'morning': 330, 'soldier': 452, 'infantry': 263, 'military': 323, 'extinction': 177, 'dog': 159, 'breed': 71, 'puppy': 403, 'retriever': 416, 'group': 238, 'antique': 15, 'automotive': 33, 'classic': 103, 'color': 112, 'blond': 57, 'hairstyle': 241, 'long': 299, 'arctic': 21, 'ski': 443, 'equipment': 172, 'geological': 223, 'snow': 449, 'vacation': 513, 'winter': 536, 'adventure': 5, 'personal': 374, 'protective': 400, 'number': 355, 'zebra': 544, 'supermodel': 480, 'brown': 73, 'model': 327, 'army': 24, 'mercenary': 319, 'troop': 507, 'militia': 324, 'swat': 483, 'police': 388, 'spaniel': 457, 'companion': 123, 'labrador': 280, 'creative': 134, 'headpiece': 248, 'crown': 136, 'valentine': 514, 'day': 145, 'ecosystem': 167, 'aqua': 17, 'fish': 192, 'silhouette': 440, 'eyewear': 181, 'vision': 524, 'care': 86, 'glasses': 228, 'mouth': 336, 'leisure': 287, 'ring': 419, 'diamond': 151, 'platinum': 384, 'silver': 441, 'wedding': 530, 'muscle': 340, 'erotic': 173, 'literature': 293, 'arm': 23, 'chest': 96, 'flesh': 196, 'cloud': 109, 'sunscreen': 478, 'lotion': 300, 'decoration': 146, 'holiday': 257, 'square': 463, 'point': 387, 'advertisement': 6, 'screenshot': 432, 'column': 114, 'medieval': 317, 'roman': 423, 'arcade': 18, 'rice': 418, 'stuffing': 474, 'risotto': 420, 'commodity': 120, 'llanero': 295, 'boating': 60, 'flyer': 204, 'leg': 286, 'performing': 372, 'dancer': 142, 'exercise': 175, 'balance': 41, 'writing': 540, 'goats': 230, 'flag': 194, 'textile': 491, 'the': 494, 'united': 511, 'states': 467, 'sausage': 431, 'kielbasa': 276, 'meat': 315, 'thuringian': 496, 'bratwurst': 68, 'mettwurst': 320, 'knackwurst': 277, 'boerewors': 62, 'needlework': 348, 'sign': 438, 'box': 65, 'packaging': 365, 'labeling': 279, 'small': 446, 'to': 499, 'medium': 318, 'sized': 442, 'whiskers': 531, 'raccoon': 406, 'sorrel': 454, 'mare': 311, 'doll': 160, 'tack': 487, 'pumpkin': 402, 'halloween': 242, 'squash': 464, 'calabaza': 79, 'newspaper': 350, 'hendl': 252, 'roasting': 421, 'thanksgiving': 493, 'prepackaged': 395, 'cookware': 128, 'bakeware': 39, 'ornament': 362, 'greeting': 237, 'card': 85, 'natural': 345, 'foods': 207, 'convenience': 127, 'fast': 185, 'soup': 455, 'communication': 121, 'baked': 38, 'goods': 231, 'flavor': 195, 'bagel': 37, 'local': 297, 'fruit': 214, 'whole': 533, 'diet': 152, 'comfort': 116, 'display': 155, 'red': 411, 'heart': 250, 'comic': 117, 'romeritos': 425, 'full': 215, 'bread': 69, 'beer': 50, 'loaf': 296, 'gluten': 229, 'finger': 191, 'citric': 102, 'acid': 2, 'earth': 165, 'battle': 44, 'angel': 12, 'supernatural': 481, 'rat': 407, 'mouse': 334, 'muroidea': 339, 'muridae': 338, 'beak': 46, 'sunlight': 477, 'branch': 66, 'thigh': 495, 'diving': 156, 'swimmer': 484, 'compact': 122, 'disc': 153, 'rodent': 422, 'junk': 272, 'drink': 164, 'retro': 417, 'style': 475, 'fête': 218, 'tire': 498, 'effects': 168, 'special': 459, 'badlands': 36, 'landscape': 283, 'grassland': 235, 'geology': 224, 'prairie': 394, 'steppe': 468, 'vending': 518, 'machine': 302, 'miniature': 325, 'new': 349, 'year': 542, 'academic': 0, 'certificate': 91, 'santa': 430, 'claus': 104, 'shoe': 437, 'fork': 210, 'cutlery': 140, 'tiger': 497, 'umbrella': 509, 'meadow': 313, 'lawn': 284, 'stuffed': 473, 'public': 401, 'relations': 413, 'business': 76, 'rabits': 405, 'hares': 245, 'lighthouse': 288, 'tower': 503, 'keeper': 274, 'comedy': 115, 'fun': 216, 'games': 220, 'electric': 170, 'karate': 273, 'tang': 488, 'soo': 453, 'do': 157, 'kenpō': 275, 'autograph': 32, 'crystal': 137, 'cosmetics': 129, 'commemorative': 119, 'plaque': 383}\n",
      "(640, 545)\n",
      "<class 'scipy.sparse.csr.csr_matrix'>\n",
      "[[0 0 0 ... 0 0 0]\n",
      " [0 0 0 ... 0 1 0]\n",
      " [0 0 0 ... 0 0 0]\n",
      " ...\n",
      " [0 0 0 ... 0 0 0]\n",
      " [0 0 0 ... 0 0 0]\n",
      " [0 0 0 ... 0 0 0]]\n"
     ]
    }
   ],
   "source": [
    "text = good_df['text'].tolist()\n",
    "vectorizer = CountVectorizer()\n",
    "# create the transform\n",
    "vectorizer = CountVectorizer()\n",
    "# tokenize and build vocab\n",
    "vectorizer.fit(text)\n",
    "# summarize\n",
    "print(vectorizer.vocabulary_)\n",
    "# encode document\n",
    "vector = vectorizer.transform(text)\n",
    "# summarize encoded vector\n",
    "print(vector.shape)\n",
    "print(type(vector))\n",
    "print(vector.toarray())"
   ]
  },
  {
   "cell_type": "code",
   "execution_count": null,
   "metadata": {},
   "outputs": [],
   "source": []
  },
  {
   "cell_type": "code",
   "execution_count": 10,
   "metadata": {},
   "outputs": [
    {
     "ename": "TypeError",
     "evalue": "'<' not supported between instances of 'float' and 'str'",
     "output_type": "error",
     "traceback": [
      "\u001b[0;31m---------------------------------------------------------------------------\u001b[0m",
      "\u001b[0;31mTypeError\u001b[0m                                 Traceback (most recent call last)",
      "\u001b[0;32m<ipython-input-10-2d89eb27fbcf>\u001b[0m in \u001b[0;36m<module>\u001b[0;34m()\u001b[0m\n\u001b[1;32m      3\u001b[0m \u001b[0mdataset\u001b[0m \u001b[0;34m=\u001b[0m \u001b[0mgood_df\u001b[0m\u001b[0;34m\u001b[0m\u001b[0m\n\u001b[1;32m      4\u001b[0m \u001b[0mlabels\u001b[0m \u001b[0;34m=\u001b[0m \u001b[0mdataset\u001b[0m\u001b[0;34m.\u001b[0m\u001b[0mtext\u001b[0m\u001b[0;34m\u001b[0m\u001b[0m\n\u001b[0;32m----> 5\u001b[0;31m \u001b[0mtrue_k\u001b[0m \u001b[0;34m=\u001b[0m \u001b[0mnp\u001b[0m\u001b[0;34m.\u001b[0m\u001b[0munique\u001b[0m\u001b[0;34m(\u001b[0m\u001b[0mlabels\u001b[0m\u001b[0;34m)\u001b[0m\u001b[0;34m.\u001b[0m\u001b[0mshape\u001b[0m\u001b[0;34m[\u001b[0m\u001b[0;36m0\u001b[0m\u001b[0;34m]\u001b[0m\u001b[0;34m\u001b[0m\u001b[0m\n\u001b[0m",
      "\u001b[0;32m~/anaconda3/envs/PythonData/lib/python3.6/site-packages/numpy/lib/arraysetops.py\u001b[0m in \u001b[0;36munique\u001b[0;34m(ar, return_index, return_inverse, return_counts, axis)\u001b[0m\n\u001b[1;32m    208\u001b[0m     \u001b[0mar\u001b[0m \u001b[0;34m=\u001b[0m \u001b[0mnp\u001b[0m\u001b[0;34m.\u001b[0m\u001b[0masanyarray\u001b[0m\u001b[0;34m(\u001b[0m\u001b[0mar\u001b[0m\u001b[0;34m)\u001b[0m\u001b[0;34m\u001b[0m\u001b[0m\n\u001b[1;32m    209\u001b[0m     \u001b[0;32mif\u001b[0m \u001b[0maxis\u001b[0m \u001b[0;32mis\u001b[0m \u001b[0;32mNone\u001b[0m\u001b[0;34m:\u001b[0m\u001b[0;34m\u001b[0m\u001b[0m\n\u001b[0;32m--> 210\u001b[0;31m         \u001b[0;32mreturn\u001b[0m \u001b[0m_unique1d\u001b[0m\u001b[0;34m(\u001b[0m\u001b[0mar\u001b[0m\u001b[0;34m,\u001b[0m \u001b[0mreturn_index\u001b[0m\u001b[0;34m,\u001b[0m \u001b[0mreturn_inverse\u001b[0m\u001b[0;34m,\u001b[0m \u001b[0mreturn_counts\u001b[0m\u001b[0;34m)\u001b[0m\u001b[0;34m\u001b[0m\u001b[0m\n\u001b[0m\u001b[1;32m    211\u001b[0m     \u001b[0;32mif\u001b[0m \u001b[0;32mnot\u001b[0m \u001b[0;34m(\u001b[0m\u001b[0;34m-\u001b[0m\u001b[0mar\u001b[0m\u001b[0;34m.\u001b[0m\u001b[0mndim\u001b[0m \u001b[0;34m<=\u001b[0m \u001b[0maxis\u001b[0m \u001b[0;34m<\u001b[0m \u001b[0mar\u001b[0m\u001b[0;34m.\u001b[0m\u001b[0mndim\u001b[0m\u001b[0;34m)\u001b[0m\u001b[0;34m:\u001b[0m\u001b[0;34m\u001b[0m\u001b[0m\n\u001b[1;32m    212\u001b[0m         \u001b[0;32mraise\u001b[0m \u001b[0mValueError\u001b[0m\u001b[0;34m(\u001b[0m\u001b[0;34m'Invalid axis kwarg specified for unique'\u001b[0m\u001b[0;34m)\u001b[0m\u001b[0;34m\u001b[0m\u001b[0m\n",
      "\u001b[0;32m~/anaconda3/envs/PythonData/lib/python3.6/site-packages/numpy/lib/arraysetops.py\u001b[0m in \u001b[0;36m_unique1d\u001b[0;34m(ar, return_index, return_inverse, return_counts)\u001b[0m\n\u001b[1;32m    275\u001b[0m         \u001b[0maux\u001b[0m \u001b[0;34m=\u001b[0m \u001b[0mar\u001b[0m\u001b[0;34m[\u001b[0m\u001b[0mperm\u001b[0m\u001b[0;34m]\u001b[0m\u001b[0;34m\u001b[0m\u001b[0m\n\u001b[1;32m    276\u001b[0m     \u001b[0;32melse\u001b[0m\u001b[0;34m:\u001b[0m\u001b[0;34m\u001b[0m\u001b[0m\n\u001b[0;32m--> 277\u001b[0;31m         \u001b[0mar\u001b[0m\u001b[0;34m.\u001b[0m\u001b[0msort\u001b[0m\u001b[0;34m(\u001b[0m\u001b[0;34m)\u001b[0m\u001b[0;34m\u001b[0m\u001b[0m\n\u001b[0m\u001b[1;32m    278\u001b[0m         \u001b[0maux\u001b[0m \u001b[0;34m=\u001b[0m \u001b[0mar\u001b[0m\u001b[0;34m\u001b[0m\u001b[0m\n\u001b[1;32m    279\u001b[0m     \u001b[0mflag\u001b[0m \u001b[0;34m=\u001b[0m \u001b[0mnp\u001b[0m\u001b[0;34m.\u001b[0m\u001b[0mconcatenate\u001b[0m\u001b[0;34m(\u001b[0m\u001b[0;34m(\u001b[0m\u001b[0;34m[\u001b[0m\u001b[0;32mTrue\u001b[0m\u001b[0;34m]\u001b[0m\u001b[0;34m,\u001b[0m \u001b[0maux\u001b[0m\u001b[0;34m[\u001b[0m\u001b[0;36m1\u001b[0m\u001b[0;34m:\u001b[0m\u001b[0;34m]\u001b[0m \u001b[0;34m!=\u001b[0m \u001b[0maux\u001b[0m\u001b[0;34m[\u001b[0m\u001b[0;34m:\u001b[0m\u001b[0;34m-\u001b[0m\u001b[0;36m1\u001b[0m\u001b[0;34m]\u001b[0m\u001b[0;34m)\u001b[0m\u001b[0;34m)\u001b[0m\u001b[0;34m\u001b[0m\u001b[0m\n",
      "\u001b[0;31mTypeError\u001b[0m: '<' not supported between instances of 'float' and 'str'"
     ]
    }
   ],
   "source": []
  },
  {
   "cell_type": "code",
   "execution_count": null,
   "metadata": {},
   "outputs": [],
   "source": []
  }
 ],
 "metadata": {
  "kernelspec": {
   "display_name": "Python 3",
   "language": "python",
   "name": "python3"
  },
  "language_info": {
   "codemirror_mode": {
    "name": "ipython",
    "version": 3
   },
   "file_extension": ".py",
   "mimetype": "text/x-python",
   "name": "python",
   "nbconvert_exporter": "python",
   "pygments_lexer": "ipython3",
   "version": "3.6.4"
  }
 },
 "nbformat": 4,
 "nbformat_minor": 2
}
